{
  "cells": [
    {
      "cell_type": "code",
      "execution_count": 2,
      "metadata": {
        "colab": {
          "base_uri": "https://localhost:8080/"
        },
        "id": "tzQjBcNEPuTv",
        "outputId": "373f866f-39ac-43a0-bc0b-8e6092ffd37c"
      },
      "outputs": [
        {
          "name": "stdout",
          "output_type": "stream",
          "text": [
            "Requirement already satisfied: transformers in c:\\users\\leo o  computador\\appdata\\local\\packages\\pythonsoftwarefoundation.python.3.9_qbz5n2kfra8p0\\localcache\\local-packages\\python39\\site-packages (4.30.2)\n",
            "Requirement already satisfied: huggingface-hub<1.0,>=0.14.1 in c:\\users\\leo o  computador\\appdata\\local\\packages\\pythonsoftwarefoundation.python.3.9_qbz5n2kfra8p0\\localcache\\local-packages\\python39\\site-packages (from transformers) (0.15.1)\n",
            "Requirement already satisfied: tqdm>=4.27 in c:\\users\\leo o  computador\\appdata\\local\\packages\\pythonsoftwarefoundation.python.3.9_qbz5n2kfra8p0\\localcache\\local-packages\\python39\\site-packages (from transformers) (4.65.0)\n",
            "Requirement already satisfied: regex!=2019.12.17 in c:\\users\\leo o  computador\\appdata\\local\\packages\\pythonsoftwarefoundation.python.3.9_qbz5n2kfra8p0\\localcache\\local-packages\\python39\\site-packages (from transformers) (2023.6.3)\n",
            "Requirement already satisfied: pyyaml>=5.1 in c:\\users\\leo o  computador\\appdata\\local\\packages\\pythonsoftwarefoundation.python.3.9_qbz5n2kfra8p0\\localcache\\local-packages\\python39\\site-packages (from transformers) (6.0)\n",
            "Requirement already satisfied: requests in c:\\users\\leo o  computador\\appdata\\local\\packages\\pythonsoftwarefoundation.python.3.9_qbz5n2kfra8p0\\localcache\\local-packages\\python39\\site-packages (from transformers) (2.26.0)\n",
            "Requirement already satisfied: filelock in c:\\users\\leo o  computador\\appdata\\local\\packages\\pythonsoftwarefoundation.python.3.9_qbz5n2kfra8p0\\localcache\\local-packages\\python39\\site-packages (from transformers) (3.12.2)\n",
            "Requirement already satisfied: numpy>=1.17 in c:\\users\\leo o  computador\\appdata\\local\\packages\\pythonsoftwarefoundation.python.3.9_qbz5n2kfra8p0\\localcache\\local-packages\\python39\\site-packages (from transformers) (1.21.2)\n",
            "Requirement already satisfied: tokenizers!=0.11.3,<0.14,>=0.11.1 in c:\\users\\leo o  computador\\appdata\\local\\packages\\pythonsoftwarefoundation.python.3.9_qbz5n2kfra8p0\\localcache\\local-packages\\python39\\site-packages (from transformers) (0.13.3)\n",
            "Requirement already satisfied: safetensors>=0.3.1 in c:\\users\\leo o  computador\\appdata\\local\\packages\\pythonsoftwarefoundation.python.3.9_qbz5n2kfra8p0\\localcache\\local-packages\\python39\\site-packages (from transformers) (0.3.1)\n",
            "Requirement already satisfied: packaging>=20.0 in c:\\users\\leo o  computador\\appdata\\local\\packages\\pythonsoftwarefoundation.python.3.9_qbz5n2kfra8p0\\localcache\\local-packages\\python39\\site-packages (from transformers) (23.1)\n",
            "Requirement already satisfied: fsspec in c:\\users\\leo o  computador\\appdata\\local\\packages\\pythonsoftwarefoundation.python.3.9_qbz5n2kfra8p0\\localcache\\local-packages\\python39\\site-packages (from huggingface-hub<1.0,>=0.14.1->transformers) (2023.6.0)\n",
            "Requirement already satisfied: typing-extensions>=3.7.4.3 in c:\\users\\leo o  computador\\appdata\\local\\packages\\pythonsoftwarefoundation.python.3.9_qbz5n2kfra8p0\\localcache\\local-packages\\python39\\site-packages (from huggingface-hub<1.0,>=0.14.1->transformers) (4.6.3)\n",
            "Requirement already satisfied: colorama in c:\\users\\leo o  computador\\appdata\\local\\packages\\pythonsoftwarefoundation.python.3.9_qbz5n2kfra8p0\\localcache\\local-packages\\python39\\site-packages (from tqdm>=4.27->transformers) (0.4.6)\n",
            "Requirement already satisfied: charset-normalizer~=2.0.0 in c:\\users\\leo o  computador\\appdata\\local\\packages\\pythonsoftwarefoundation.python.3.9_qbz5n2kfra8p0\\localcache\\local-packages\\python39\\site-packages (from requests->transformers) (2.0.6)\n",
            "Requirement already satisfied: urllib3<1.27,>=1.21.1 in c:\\users\\leo o  computador\\appdata\\local\\packages\\pythonsoftwarefoundation.python.3.9_qbz5n2kfra8p0\\localcache\\local-packages\\python39\\site-packages (from requests->transformers) (1.26.16)\n",
            "Requirement already satisfied: idna<4,>=2.5 in c:\\users\\leo o  computador\\appdata\\local\\packages\\pythonsoftwarefoundation.python.3.9_qbz5n2kfra8p0\\localcache\\local-packages\\python39\\site-packages (from requests->transformers) (3.2)\n",
            "Requirement already satisfied: certifi>=2017.4.17 in c:\\users\\leo o  computador\\appdata\\local\\packages\\pythonsoftwarefoundation.python.3.9_qbz5n2kfra8p0\\localcache\\local-packages\\python39\\site-packages (from requests->transformers) (2021.5.30)\n"
          ]
        },
        {
          "name": "stderr",
          "output_type": "stream",
          "text": [
            "WARNING: You are using pip version 22.0.4; however, version 23.2.1 is available.\n",
            "You should consider upgrading via the 'C:\\Users\\Leo o  computador\\AppData\\Local\\Microsoft\\WindowsApps\\PythonSoftwareFoundation.Python.3.9_qbz5n2kfra8p0\\python.exe -m pip install --upgrade pip' command.\n"
          ]
        },
        {
          "name": "stdout",
          "output_type": "stream",
          "text": [
            "Collecting unidecode\n",
            "  Downloading Unidecode-1.3.7-py3-none-any.whl (235 kB)\n",
            "     -------------------------------------- 235.5/235.5 KB 3.6 MB/s eta 0:00:00\n",
            "Installing collected packages: unidecode\n",
            "Successfully installed unidecode-1.3.7\n"
          ]
        },
        {
          "name": "stderr",
          "output_type": "stream",
          "text": [
            "WARNING: You are using pip version 22.0.4; however, version 23.2.1 is available.\n",
            "You should consider upgrading via the 'C:\\Users\\Leo o  computador\\AppData\\Local\\Microsoft\\WindowsApps\\PythonSoftwareFoundation.Python.3.9_qbz5n2kfra8p0\\python.exe -m pip install --upgrade pip' command.\n"
          ]
        },
        {
          "name": "stdout",
          "output_type": "stream",
          "text": [
            "Collecting scikit-learn-intelex\n",
            "  Downloading scikit_learn_intelex-2023.2.1-py39-none-win_amd64.whl (139 kB)\n",
            "     -------------------------------------- 139.3/139.3 KB 4.2 MB/s eta 0:00:00\n",
            "Requirement already satisfied: scikit-learn>=0.22 in c:\\users\\leo o  computador\\appdata\\local\\packages\\pythonsoftwarefoundation.python.3.9_qbz5n2kfra8p0\\localcache\\local-packages\\python39\\site-packages (from scikit-learn-intelex) (1.1.2)\n",
            "Collecting daal4py==2023.2.1\n",
            "  Downloading daal4py-2023.2.1-py39-none-win_amd64.whl (11.5 MB)\n",
            "     ---------------------------------------- 11.5/11.5 MB 6.2 MB/s eta 0:00:00\n",
            "Requirement already satisfied: numpy>=1.19 in c:\\users\\leo o  computador\\appdata\\local\\packages\\pythonsoftwarefoundation.python.3.9_qbz5n2kfra8p0\\localcache\\local-packages\\python39\\site-packages (from daal4py==2023.2.1->scikit-learn-intelex) (1.21.2)\n",
            "Collecting daal==2023.2.1\n",
            "  Downloading daal-2023.2.1-py2.py3-none-win_amd64.whl (57.5 MB)\n",
            "     ---------------------------------------- 57.5/57.5 MB 5.2 MB/s eta 0:00:00\n",
            "Collecting tbb==2021.*\n",
            "  Downloading tbb-2021.10.0-py3-none-win_amd64.whl (284 kB)\n",
            "     -------------------------------------- 284.8/284.8 KB 4.4 MB/s eta 0:00:00\n",
            "Requirement already satisfied: scipy>=1.3.2 in c:\\users\\leo o  computador\\appdata\\local\\packages\\pythonsoftwarefoundation.python.3.9_qbz5n2kfra8p0\\localcache\\local-packages\\python39\\site-packages (from scikit-learn>=0.22->scikit-learn-intelex) (1.7.1)\n",
            "Requirement already satisfied: threadpoolctl>=2.0.0 in c:\\users\\leo o  computador\\appdata\\local\\packages\\pythonsoftwarefoundation.python.3.9_qbz5n2kfra8p0\\localcache\\local-packages\\python39\\site-packages (from scikit-learn>=0.22->scikit-learn-intelex) (3.1.0)\n",
            "Requirement already satisfied: joblib>=1.0.0 in c:\\users\\leo o  computador\\appdata\\local\\packages\\pythonsoftwarefoundation.python.3.9_qbz5n2kfra8p0\\localcache\\local-packages\\python39\\site-packages (from scikit-learn>=0.22->scikit-learn-intelex) (1.2.0)\n",
            "Installing collected packages: tbb, daal, daal4py, scikit-learn-intelex\n",
            "Successfully installed daal-2023.2.1 daal4py-2023.2.1 scikit-learn-intelex-2023.2.1 tbb-2021.10.0\n"
          ]
        },
        {
          "name": "stderr",
          "output_type": "stream",
          "text": [
            "WARNING: You are using pip version 22.0.4; however, version 23.2.1 is available.\n",
            "You should consider upgrading via the 'C:\\Users\\Leo o  computador\\AppData\\Local\\Microsoft\\WindowsApps\\PythonSoftwareFoundation.Python.3.9_qbz5n2kfra8p0\\python.exe -m pip install --upgrade pip' command.\n"
          ]
        },
        {
          "name": "stdout",
          "output_type": "stream",
          "text": [
            "Collecting spacy\n",
            "  Downloading spacy-3.6.1-cp39-cp39-win_amd64.whl (12.1 MB)\n",
            "     ---------------------------------------- 12.1/12.1 MB 5.3 MB/s eta 0:00:00\n",
            "Collecting catalogue<2.1.0,>=2.0.6\n",
            "  Downloading catalogue-2.0.10-py3-none-any.whl (17 kB)\n",
            "Collecting typer<0.10.0,>=0.3.0\n",
            "  Downloading typer-0.9.0-py3-none-any.whl (45 kB)\n",
            "     ---------------------------------------- 45.9/45.9 KB 2.2 MB/s eta 0:00:00\n",
            "Collecting cymem<2.1.0,>=2.0.2\n",
            "  Downloading cymem-2.0.8-cp39-cp39-win_amd64.whl (39 kB)\n",
            "Collecting pydantic!=1.8,!=1.8.1,<3.0.0,>=1.7.4\n",
            "  Downloading pydantic-2.4.2-py3-none-any.whl (395 kB)\n",
            "     -------------------------------------- 395.8/395.8 KB 4.1 MB/s eta 0:00:00\n",
            "Collecting spacy-loggers<2.0.0,>=1.0.0\n",
            "  Downloading spacy_loggers-1.0.5-py3-none-any.whl (22 kB)\n",
            "Collecting wasabi<1.2.0,>=0.9.1\n",
            "  Downloading wasabi-1.1.2-py3-none-any.whl (27 kB)\n",
            "Requirement already satisfied: packaging>=20.0 in c:\\users\\leo o  computador\\appdata\\local\\packages\\pythonsoftwarefoundation.python.3.9_qbz5n2kfra8p0\\localcache\\local-packages\\python39\\site-packages (from spacy) (23.1)\n",
            "Collecting smart-open<7.0.0,>=5.2.1\n",
            "  Downloading smart_open-6.4.0-py3-none-any.whl (57 kB)\n",
            "     ---------------------------------------- 57.0/57.0 KB 2.9 MB/s eta 0:00:00\n",
            "Collecting srsly<3.0.0,>=2.4.3\n",
            "  Downloading srsly-2.4.8-cp39-cp39-win_amd64.whl (483 kB)\n",
            "     -------------------------------------- 483.8/483.8 KB 5.0 MB/s eta 0:00:00\n",
            "Requirement already satisfied: numpy>=1.15.0 in c:\\users\\leo o  computador\\appdata\\local\\packages\\pythonsoftwarefoundation.python.3.9_qbz5n2kfra8p0\\localcache\\local-packages\\python39\\site-packages (from spacy) (1.21.2)\n",
            "Requirement already satisfied: setuptools in c:\\program files\\windowsapps\\pythonsoftwarefoundation.python.3.9_3.9.3568.0_x64__qbz5n2kfra8p0\\lib\\site-packages (from spacy) (58.1.0)\n",
            "Requirement already satisfied: jinja2 in c:\\users\\leo o  computador\\appdata\\local\\packages\\pythonsoftwarefoundation.python.3.9_qbz5n2kfra8p0\\localcache\\local-packages\\python39\\site-packages (from spacy) (3.1.2)\n",
            "Requirement already satisfied: requests<3.0.0,>=2.13.0 in c:\\users\\leo o  computador\\appdata\\local\\packages\\pythonsoftwarefoundation.python.3.9_qbz5n2kfra8p0\\localcache\\local-packages\\python39\\site-packages (from spacy) (2.26.0)\n",
            "Collecting pathy>=0.10.0\n",
            "  Downloading pathy-0.10.2-py3-none-any.whl (48 kB)\n",
            "     ---------------------------------------- 48.9/48.9 KB 2.4 MB/s eta 0:00:00\n",
            "Collecting langcodes<4.0.0,>=3.2.0\n",
            "  Downloading langcodes-3.3.0-py3-none-any.whl (181 kB)\n",
            "     -------------------------------------- 181.6/181.6 KB 3.7 MB/s eta 0:00:00\n",
            "Collecting murmurhash<1.1.0,>=0.28.0\n",
            "  Downloading murmurhash-1.0.10-cp39-cp39-win_amd64.whl (25 kB)\n",
            "Collecting spacy-legacy<3.1.0,>=3.0.11\n",
            "  Downloading spacy_legacy-3.0.12-py2.py3-none-any.whl (29 kB)\n",
            "Collecting thinc<8.2.0,>=8.1.8\n",
            "  Downloading thinc-8.1.12-cp39-cp39-win_amd64.whl (1.5 MB)\n",
            "     ---------------------------------------- 1.5/1.5 MB 5.3 MB/s eta 0:00:00\n",
            "Requirement already satisfied: tqdm<5.0.0,>=4.38.0 in c:\\users\\leo o  computador\\appdata\\local\\packages\\pythonsoftwarefoundation.python.3.9_qbz5n2kfra8p0\\localcache\\local-packages\\python39\\site-packages (from spacy) (4.65.0)\n",
            "Collecting preshed<3.1.0,>=3.0.2\n",
            "  Downloading preshed-3.0.9-cp39-cp39-win_amd64.whl (122 kB)\n",
            "     -------------------------------------- 122.7/122.7 KB 3.6 MB/s eta 0:00:00\n",
            "Requirement already satisfied: typing-extensions>=4.6.1 in c:\\users\\leo o  computador\\appdata\\local\\packages\\pythonsoftwarefoundation.python.3.9_qbz5n2kfra8p0\\localcache\\local-packages\\python39\\site-packages (from pydantic!=1.8,!=1.8.1,<3.0.0,>=1.7.4->spacy) (4.6.3)\n",
            "Collecting pydantic-core==2.10.1\n",
            "  Downloading pydantic_core-2.10.1-cp39-none-win_amd64.whl (2.0 MB)\n",
            "     ---------------------------------------- 2.0/2.0 MB 5.5 MB/s eta 0:00:00\n",
            "Collecting annotated-types>=0.4.0\n",
            "  Downloading annotated_types-0.5.0-py3-none-any.whl (11 kB)\n",
            "Requirement already satisfied: idna<4,>=2.5 in c:\\users\\leo o  computador\\appdata\\local\\packages\\pythonsoftwarefoundation.python.3.9_qbz5n2kfra8p0\\localcache\\local-packages\\python39\\site-packages (from requests<3.0.0,>=2.13.0->spacy) (3.2)\n",
            "Requirement already satisfied: certifi>=2017.4.17 in c:\\users\\leo o  computador\\appdata\\local\\packages\\pythonsoftwarefoundation.python.3.9_qbz5n2kfra8p0\\localcache\\local-packages\\python39\\site-packages (from requests<3.0.0,>=2.13.0->spacy) (2021.5.30)\n",
            "Requirement already satisfied: charset-normalizer~=2.0.0 in c:\\users\\leo o  computador\\appdata\\local\\packages\\pythonsoftwarefoundation.python.3.9_qbz5n2kfra8p0\\localcache\\local-packages\\python39\\site-packages (from requests<3.0.0,>=2.13.0->spacy) (2.0.6)\n",
            "Requirement already satisfied: urllib3<1.27,>=1.21.1 in c:\\users\\leo o  computador\\appdata\\local\\packages\\pythonsoftwarefoundation.python.3.9_qbz5n2kfra8p0\\localcache\\local-packages\\python39\\site-packages (from requests<3.0.0,>=2.13.0->spacy) (1.26.16)\n",
            "Collecting confection<1.0.0,>=0.0.1\n",
            "  Downloading confection-0.1.3-py3-none-any.whl (34 kB)\n",
            "Collecting blis<0.8.0,>=0.7.8\n",
            "  Downloading blis-0.7.11-cp39-cp39-win_amd64.whl (6.6 MB)\n",
            "     ---------------------------------------- 6.6/6.6 MB 5.8 MB/s eta 0:00:00\n",
            "Requirement already satisfied: colorama in c:\\users\\leo o  computador\\appdata\\local\\packages\\pythonsoftwarefoundation.python.3.9_qbz5n2kfra8p0\\localcache\\local-packages\\python39\\site-packages (from tqdm<5.0.0,>=4.38.0->spacy) (0.4.6)\n",
            "Requirement already satisfied: click<9.0.0,>=7.1.1 in c:\\users\\leo o  computador\\appdata\\local\\packages\\pythonsoftwarefoundation.python.3.9_qbz5n2kfra8p0\\localcache\\local-packages\\python39\\site-packages (from typer<0.10.0,>=0.3.0->spacy) (8.1.3)\n",
            "Requirement already satisfied: MarkupSafe>=2.0 in c:\\users\\leo o  computador\\appdata\\local\\packages\\pythonsoftwarefoundation.python.3.9_qbz5n2kfra8p0\\localcache\\local-packages\\python39\\site-packages (from jinja2->spacy) (2.1.3)\n",
            "Installing collected packages: cymem, wasabi, spacy-loggers, spacy-legacy, smart-open, pydantic-core, murmurhash, langcodes, catalogue, blis, annotated-types, typer, srsly, pydantic, preshed, pathy, confection, thinc, spacy\n",
            "Successfully installed annotated-types-0.5.0 blis-0.7.11 catalogue-2.0.10 confection-0.1.3 cymem-2.0.8 langcodes-3.3.0 murmurhash-1.0.10 pathy-0.10.2 preshed-3.0.9 pydantic-2.4.2 pydantic-core-2.10.1 smart-open-6.4.0 spacy-3.6.1 spacy-legacy-3.0.12 spacy-loggers-1.0.5 srsly-2.4.8 thinc-8.1.12 typer-0.9.0 wasabi-1.1.2\n"
          ]
        },
        {
          "name": "stderr",
          "output_type": "stream",
          "text": [
            "WARNING: You are using pip version 22.0.4; however, version 23.2.1 is available.\n",
            "You should consider upgrading via the 'C:\\Users\\Leo o  computador\\AppData\\Local\\Microsoft\\WindowsApps\\PythonSoftwareFoundation.Python.3.9_qbz5n2kfra8p0\\python.exe -m pip install --upgrade pip' command.\n"
          ]
        },
        {
          "name": "stdout",
          "output_type": "stream",
          "text": [
            "Collecting nltk\n",
            "  Downloading nltk-3.8.1-py3-none-any.whl (1.5 MB)\n",
            "     ---------------------------------------- 1.5/1.5 MB 5.3 MB/s eta 0:00:00\n",
            "Requirement already satisfied: joblib in c:\\users\\leo o  computador\\appdata\\local\\packages\\pythonsoftwarefoundation.python.3.9_qbz5n2kfra8p0\\localcache\\local-packages\\python39\\site-packages (from nltk) (1.2.0)\n",
            "Requirement already satisfied: regex>=2021.8.3 in c:\\users\\leo o  computador\\appdata\\local\\packages\\pythonsoftwarefoundation.python.3.9_qbz5n2kfra8p0\\localcache\\local-packages\\python39\\site-packages (from nltk) (2023.6.3)\n",
            "Requirement already satisfied: tqdm in c:\\users\\leo o  computador\\appdata\\local\\packages\\pythonsoftwarefoundation.python.3.9_qbz5n2kfra8p0\\localcache\\local-packages\\python39\\site-packages (from nltk) (4.65.0)\n",
            "Requirement already satisfied: click in c:\\users\\leo o  computador\\appdata\\local\\packages\\pythonsoftwarefoundation.python.3.9_qbz5n2kfra8p0\\localcache\\local-packages\\python39\\site-packages (from nltk) (8.1.3)\n",
            "Requirement already satisfied: colorama in c:\\users\\leo o  computador\\appdata\\local\\packages\\pythonsoftwarefoundation.python.3.9_qbz5n2kfra8p0\\localcache\\local-packages\\python39\\site-packages (from click->nltk) (0.4.6)\n",
            "Installing collected packages: nltk\n",
            "Successfully installed nltk-3.8.1\n"
          ]
        },
        {
          "name": "stderr",
          "output_type": "stream",
          "text": [
            "WARNING: You are using pip version 22.0.4; however, version 23.2.1 is available.\n",
            "You should consider upgrading via the 'C:\\Users\\Leo o  computador\\AppData\\Local\\Microsoft\\WindowsApps\\PythonSoftwareFoundation.Python.3.9_qbz5n2kfra8p0\\python.exe -m pip install --upgrade pip' command.\n"
          ]
        },
        {
          "name": "stdout",
          "output_type": "stream",
          "text": [
            "Requirement already satisfied: unidecode in c:\\users\\leo o  computador\\appdata\\local\\packages\\pythonsoftwarefoundation.python.3.9_qbz5n2kfra8p0\\localcache\\local-packages\\python39\\site-packages (1.3.7)\n"
          ]
        },
        {
          "name": "stderr",
          "output_type": "stream",
          "text": [
            "WARNING: You are using pip version 22.0.4; however, version 23.2.1 is available.\n",
            "You should consider upgrading via the 'C:\\Users\\Leo o  computador\\AppData\\Local\\Microsoft\\WindowsApps\\PythonSoftwareFoundation.Python.3.9_qbz5n2kfra8p0\\python.exe -m pip install --upgrade pip' command.\n"
          ]
        },
        {
          "name": "stdout",
          "output_type": "stream",
          "text": [
            "Collecting seaborn\n",
            "  Using cached seaborn-0.12.2-py3-none-any.whl (293 kB)\n",
            "Requirement already satisfied: matplotlib!=3.6.1,>=3.1 in c:\\users\\leo o  computador\\appdata\\local\\packages\\pythonsoftwarefoundation.python.3.9_qbz5n2kfra8p0\\localcache\\local-packages\\python39\\site-packages (from seaborn) (3.4.3)\n",
            "Requirement already satisfied: numpy!=1.24.0,>=1.17 in c:\\users\\leo o  computador\\appdata\\local\\packages\\pythonsoftwarefoundation.python.3.9_qbz5n2kfra8p0\\localcache\\local-packages\\python39\\site-packages (from seaborn) (1.21.2)\n",
            "Requirement already satisfied: pandas>=0.25 in c:\\users\\leo o  computador\\appdata\\local\\packages\\pythonsoftwarefoundation.python.3.9_qbz5n2kfra8p0\\localcache\\local-packages\\python39\\site-packages (from seaborn) (1.3.4)\n",
            "Requirement already satisfied: python-dateutil>=2.7 in c:\\users\\leo o  computador\\appdata\\local\\packages\\pythonsoftwarefoundation.python.3.9_qbz5n2kfra8p0\\localcache\\local-packages\\python39\\site-packages (from matplotlib!=3.6.1,>=3.1->seaborn) (2.8.2)\n",
            "Requirement already satisfied: pillow>=6.2.0 in c:\\users\\leo o  computador\\appdata\\local\\packages\\pythonsoftwarefoundation.python.3.9_qbz5n2kfra8p0\\localcache\\local-packages\\python39\\site-packages (from matplotlib!=3.6.1,>=3.1->seaborn) (8.3.2)\n",
            "Requirement already satisfied: pyparsing>=2.2.1 in c:\\users\\leo o  computador\\appdata\\local\\packages\\pythonsoftwarefoundation.python.3.9_qbz5n2kfra8p0\\localcache\\local-packages\\python39\\site-packages (from matplotlib!=3.6.1,>=3.1->seaborn) (2.4.7)\n",
            "Requirement already satisfied: kiwisolver>=1.0.1 in c:\\users\\leo o  computador\\appdata\\local\\packages\\pythonsoftwarefoundation.python.3.9_qbz5n2kfra8p0\\localcache\\local-packages\\python39\\site-packages (from matplotlib!=3.6.1,>=3.1->seaborn) (1.3.2)\n",
            "Requirement already satisfied: cycler>=0.10 in c:\\users\\leo o  computador\\appdata\\local\\packages\\pythonsoftwarefoundation.python.3.9_qbz5n2kfra8p0\\localcache\\local-packages\\python39\\site-packages (from matplotlib!=3.6.1,>=3.1->seaborn) (0.10.0)\n",
            "Requirement already satisfied: pytz>=2017.3 in c:\\users\\leo o  computador\\appdata\\local\\packages\\pythonsoftwarefoundation.python.3.9_qbz5n2kfra8p0\\localcache\\local-packages\\python39\\site-packages (from pandas>=0.25->seaborn) (2021.3)\n",
            "Requirement already satisfied: six in c:\\users\\leo o  computador\\appdata\\local\\packages\\pythonsoftwarefoundation.python.3.9_qbz5n2kfra8p0\\localcache\\local-packages\\python39\\site-packages (from cycler>=0.10->matplotlib!=3.6.1,>=3.1->seaborn) (1.16.0)\n",
            "Installing collected packages: seaborn\n",
            "Successfully installed seaborn-0.12.2\n"
          ]
        },
        {
          "name": "stderr",
          "output_type": "stream",
          "text": [
            "WARNING: You are using pip version 22.0.4; however, version 23.2.1 is available.\n",
            "You should consider upgrading via the 'C:\\Users\\Leo o  computador\\AppData\\Local\\Microsoft\\WindowsApps\\PythonSoftwareFoundation.Python.3.9_qbz5n2kfra8p0\\python.exe -m pip install --upgrade pip' command.\n"
          ]
        },
        {
          "name": "stdout",
          "output_type": "stream",
          "text": [
            "Collecting xgboost\n",
            "  Downloading xgboost-2.0.0-py3-none-win_amd64.whl (99.7 MB)\n",
            "     ---------------------------------------- 99.7/99.7 MB 4.1 MB/s eta 0:00:00\n",
            "Requirement already satisfied: numpy in c:\\users\\leo o  computador\\appdata\\local\\packages\\pythonsoftwarefoundation.python.3.9_qbz5n2kfra8p0\\localcache\\local-packages\\python39\\site-packages (from xgboost) (1.21.2)\n",
            "Requirement already satisfied: scipy in c:\\users\\leo o  computador\\appdata\\local\\packages\\pythonsoftwarefoundation.python.3.9_qbz5n2kfra8p0\\localcache\\local-packages\\python39\\site-packages (from xgboost) (1.7.1)\n",
            "Installing collected packages: xgboost\n",
            "Successfully installed xgboost-2.0.0\n"
          ]
        },
        {
          "name": "stderr",
          "output_type": "stream",
          "text": [
            "WARNING: You are using pip version 22.0.4; however, version 23.2.1 is available.\n",
            "You should consider upgrading via the 'C:\\Users\\Leo o  computador\\AppData\\Local\\Microsoft\\WindowsApps\\PythonSoftwareFoundation.Python.3.9_qbz5n2kfra8p0\\python.exe -m pip install --upgrade pip' command.\n"
          ]
        }
      ],
      "source": [
        "# !pip install --upgrade pip setuptools wheel\n",
        "!pip install transformers\n",
        "!pip install unidecode\n",
        "!pip install scikit-learn-intelex\n",
        "!pip install spacy\n",
        "!pip install nltk\n",
        "!pip install unidecode\n",
        "!pip install seaborn\n",
        "!pip install xgboost"
      ]
    },
    {
      "cell_type": "code",
      "execution_count": 1,
      "metadata": {
        "colab": {
          "base_uri": "https://localhost:8080/"
        },
        "id": "2pk8n7sLPrFb",
        "outputId": "0dd84985-562f-4d81-d376-836f6b6cd356"
      },
      "outputs": [
        {
          "name": "stderr",
          "output_type": "stream",
          "text": [
            "C:\\Users\\Leo o  computador\\AppData\\Local\\Packages\\PythonSoftwareFoundation.Python.3.9_qbz5n2kfra8p0\\LocalCache\\local-packages\\Python39\\site-packages\\tqdm\\auto.py:21: TqdmWarning: IProgress not found. Please update jupyter and ipywidgets. See https://ipywidgets.readthedocs.io/en/stable/user_install.html\n",
            "  from .autonotebook import tqdm as notebook_tqdm\n",
            "None of PyTorch, TensorFlow >= 2.0, or Flax have been found. Models won't be available and only tokenizers, configuration and file/data utilities can be used.\n"
          ]
        }
      ],
      "source": [
        "import pandas as pd\n",
        "import numpy as np\n",
        "from sklearn.ensemble import RandomForestClassifier\n",
        "import os\n",
        "os.environ[\"TOKENIZERS_PARALLELISM\"] = \"false\"\n",
        "from sklearn.metrics import confusion_matrix\n",
        "from sklearn.metrics import precision_score, recall_score, f1_score, accuracy_score\n",
        "import matplotlib.pyplot as plt\n",
        "import seaborn as sns\n",
        "# import torch\n",
        "# from sklearnex import patch_sklearn\n",
        "from collections import Counter\n",
        "from sklearn.model_selection import RandomizedSearchCV\n",
        "import xgboost\n",
        "import pickle\n",
        "import joblib\n",
        "\n",
        "# patch_sklearn()\n",
        "\n",
        "# device = xm.xla_device()\n",
        "# torch.arange(0, 100, device=device)\n",
        "#from simpletransformers.classification import ClassificationModel\n",
        "\n",
        "from transformers import AutoTokenizer, AutoModelForMaskedLM\n",
        "import spacy\n",
        "from nltk.stem.snowball import SnowballStemmer\n",
        "from unidecode import unidecode"
      ]
    },
    {
      "cell_type": "code",
      "execution_count": 2,
      "metadata": {
        "colab": {
          "base_uri": "https://localhost:8080/",
          "height": 424
        },
        "id": "uJU8k-c3WlfL",
        "outputId": "55574e92-ab2d-4b22-9cc0-4e40dd1c4aed"
      },
      "outputs": [
        {
          "data": {
            "text/html": [
              "<div>\n",
              "<style scoped>\n",
              "    .dataframe tbody tr th:only-of-type {\n",
              "        vertical-align: middle;\n",
              "    }\n",
              "\n",
              "    .dataframe tbody tr th {\n",
              "        vertical-align: top;\n",
              "    }\n",
              "\n",
              "    .dataframe thead th {\n",
              "        text-align: right;\n",
              "    }\n",
              "</style>\n",
              "<table border=\"1\" class=\"dataframe\">\n",
              "  <thead>\n",
              "    <tr style=\"text-align: right;\">\n",
              "      <th></th>\n",
              "      <th>text</th>\n",
              "      <th>homophobia</th>\n",
              "      <th>obscene</th>\n",
              "      <th>insult</th>\n",
              "      <th>racism</th>\n",
              "      <th>misogyny</th>\n",
              "      <th>xenophobia</th>\n",
              "    </tr>\n",
              "  </thead>\n",
              "  <tbody>\n",
              "    <tr>\n",
              "      <th>0</th>\n",
              "      <td>Meu nivel de amizade com isis é ela ter meu in...</td>\n",
              "      <td>0.0</td>\n",
              "      <td>0.0</td>\n",
              "      <td>2.0</td>\n",
              "      <td>0.0</td>\n",
              "      <td>0.0</td>\n",
              "      <td>0.0</td>\n",
              "    </tr>\n",
              "    <tr>\n",
              "      <th>1</th>\n",
              "      <td>rt @user @user o cara adultera dados, que fora...</td>\n",
              "      <td>0.0</td>\n",
              "      <td>0.0</td>\n",
              "      <td>1.0</td>\n",
              "      <td>0.0</td>\n",
              "      <td>0.0</td>\n",
              "      <td>0.0</td>\n",
              "    </tr>\n",
              "    <tr>\n",
              "      <th>2</th>\n",
              "      <td>@user @user @user o cara só é simplesmente o m...</td>\n",
              "      <td>0.0</td>\n",
              "      <td>2.0</td>\n",
              "      <td>1.0</td>\n",
              "      <td>0.0</td>\n",
              "      <td>0.0</td>\n",
              "      <td>0.0</td>\n",
              "    </tr>\n",
              "    <tr>\n",
              "      <th>3</th>\n",
              "      <td>eu to chorando vei vsf e eu nem staneio izone ...</td>\n",
              "      <td>0.0</td>\n",
              "      <td>1.0</td>\n",
              "      <td>0.0</td>\n",
              "      <td>0.0</td>\n",
              "      <td>0.0</td>\n",
              "      <td>0.0</td>\n",
              "    </tr>\n",
              "    <tr>\n",
              "      <th>4</th>\n",
              "      <td>Eleitor do Bolsonaro é tão ignorante q não per...</td>\n",
              "      <td>0.0</td>\n",
              "      <td>1.0</td>\n",
              "      <td>2.0</td>\n",
              "      <td>0.0</td>\n",
              "      <td>0.0</td>\n",
              "      <td>0.0</td>\n",
              "    </tr>\n",
              "    <tr>\n",
              "      <th>...</th>\n",
              "      <td>...</td>\n",
              "      <td>...</td>\n",
              "      <td>...</td>\n",
              "      <td>...</td>\n",
              "      <td>...</td>\n",
              "      <td>...</td>\n",
              "      <td>...</td>\n",
              "    </tr>\n",
              "    <tr>\n",
              "      <th>20995</th>\n",
              "      <td>@user faz favor vai carai</td>\n",
              "      <td>0.0</td>\n",
              "      <td>0.0</td>\n",
              "      <td>0.0</td>\n",
              "      <td>0.0</td>\n",
              "      <td>0.0</td>\n",
              "      <td>0.0</td>\n",
              "    </tr>\n",
              "    <tr>\n",
              "      <th>20996</th>\n",
              "      <td>só queria conhecer alguém que não conhece o he...</td>\n",
              "      <td>1.0</td>\n",
              "      <td>0.0</td>\n",
              "      <td>0.0</td>\n",
              "      <td>0.0</td>\n",
              "      <td>0.0</td>\n",
              "      <td>0.0</td>\n",
              "    </tr>\n",
              "    <tr>\n",
              "      <th>20997</th>\n",
              "      <td>vcs militam na hora errada em cima de memes, p...</td>\n",
              "      <td>0.0</td>\n",
              "      <td>0.0</td>\n",
              "      <td>0.0</td>\n",
              "      <td>0.0</td>\n",
              "      <td>0.0</td>\n",
              "      <td>0.0</td>\n",
              "    </tr>\n",
              "    <tr>\n",
              "      <th>20998</th>\n",
              "      <td>@user porra any eu tava c dor de cabeca e fui ...</td>\n",
              "      <td>0.0</td>\n",
              "      <td>0.0</td>\n",
              "      <td>0.0</td>\n",
              "      <td>0.0</td>\n",
              "      <td>0.0</td>\n",
              "      <td>0.0</td>\n",
              "    </tr>\n",
              "    <tr>\n",
              "      <th>20999</th>\n",
              "      <td>saudades da iasmin de 2017 eu era gótica demai...</td>\n",
              "      <td>0.0</td>\n",
              "      <td>0.0</td>\n",
              "      <td>0.0</td>\n",
              "      <td>0.0</td>\n",
              "      <td>0.0</td>\n",
              "      <td>0.0</td>\n",
              "    </tr>\n",
              "  </tbody>\n",
              "</table>\n",
              "<p>21000 rows × 7 columns</p>\n",
              "</div>"
            ],
            "text/plain": [
              "                                                    text  homophobia  obscene  \\\n",
              "0      Meu nivel de amizade com isis é ela ter meu in...         0.0      0.0   \n",
              "1      rt @user @user o cara adultera dados, que fora...         0.0      0.0   \n",
              "2      @user @user @user o cara só é simplesmente o m...         0.0      2.0   \n",
              "3      eu to chorando vei vsf e eu nem staneio izone ...         0.0      1.0   \n",
              "4      Eleitor do Bolsonaro é tão ignorante q não per...         0.0      1.0   \n",
              "...                                                  ...         ...      ...   \n",
              "20995                          @user faz favor vai carai         0.0      0.0   \n",
              "20996  só queria conhecer alguém que não conhece o he...         1.0      0.0   \n",
              "20997  vcs militam na hora errada em cima de memes, p...         0.0      0.0   \n",
              "20998  @user porra any eu tava c dor de cabeca e fui ...         0.0      0.0   \n",
              "20999  saudades da iasmin de 2017 eu era gótica demai...         0.0      0.0   \n",
              "\n",
              "       insult  racism  misogyny  xenophobia  \n",
              "0         2.0     0.0       0.0         0.0  \n",
              "1         1.0     0.0       0.0         0.0  \n",
              "2         1.0     0.0       0.0         0.0  \n",
              "3         0.0     0.0       0.0         0.0  \n",
              "4         2.0     0.0       0.0         0.0  \n",
              "...       ...     ...       ...         ...  \n",
              "20995     0.0     0.0       0.0         0.0  \n",
              "20996     0.0     0.0       0.0         0.0  \n",
              "20997     0.0     0.0       0.0         0.0  \n",
              "20998     0.0     0.0       0.0         0.0  \n",
              "20999     0.0     0.0       0.0         0.0  \n",
              "\n",
              "[21000 rows x 7 columns]"
            ]
          },
          "execution_count": 2,
          "metadata": {},
          "output_type": "execute_result"
        }
      ],
      "source": [
        "df_told = pd.read_csv('ToLD-BR.csv')\n",
        "df_told"
      ]
    },
    {
      "cell_type": "code",
      "execution_count": 3,
      "metadata": {
        "id": "5dJniTo5Ws9t"
      },
      "outputs": [],
      "source": [
        "y =[]\n",
        "for i in range(len(df_told)):\n",
        "  if df_told.iloc[i,1:].sum()>0:\n",
        "    y.append(1)\n",
        "  else:\n",
        "    y.append(df_told.iloc[i,1:].sum())\n",
        "np.unique(y)\n",
        "df_told['bin_class'] = y\n",
        "df_told = df_told#[0:5000]"
      ]
    },
    {
      "cell_type": "code",
      "execution_count": 4,
      "metadata": {
        "colab": {
          "base_uri": "https://localhost:8080/"
        },
        "id": "N5uz_a9hNWNI",
        "outputId": "f992b312-bc6e-41e0-980b-3ed14bac760c"
      },
      "outputs": [
        {
          "name": "stdout",
          "output_type": "stream",
          "text": [
            "Collecting pt-core-news-lg==3.6.0\n",
            "  Downloading https://github.com/explosion/spacy-models/releases/download/pt_core_news_lg-3.6.0/pt_core_news_lg-3.6.0-py3-none-any.whl (568.2 MB)\n",
            "     -------------------------------------- 568.2/568.2 MB 1.8 MB/s eta 0:00:00\n",
            "Requirement already satisfied: spacy<3.7.0,>=3.6.0 in c:\\users\\leo o  computador\\appdata\\local\\packages\\pythonsoftwarefoundation.python.3.9_qbz5n2kfra8p0\\localcache\\local-packages\\python39\\site-packages (from pt-core-news-lg==3.6.0) (3.6.1)\n",
            "Requirement already satisfied: spacy-legacy<3.1.0,>=3.0.11 in c:\\users\\leo o  computador\\appdata\\local\\packages\\pythonsoftwarefoundation.python.3.9_qbz5n2kfra8p0\\localcache\\local-packages\\python39\\site-packages (from spacy<3.7.0,>=3.6.0->pt-core-news-lg==3.6.0) (3.0.12)\n",
            "Requirement already satisfied: preshed<3.1.0,>=3.0.2 in c:\\users\\leo o  computador\\appdata\\local\\packages\\pythonsoftwarefoundation.python.3.9_qbz5n2kfra8p0\\localcache\\local-packages\\python39\\site-packages (from spacy<3.7.0,>=3.6.0->pt-core-news-lg==3.6.0) (3.0.9)\n",
            "Requirement already satisfied: requests<3.0.0,>=2.13.0 in c:\\users\\leo o  computador\\appdata\\local\\packages\\pythonsoftwarefoundation.python.3.9_qbz5n2kfra8p0\\localcache\\local-packages\\python39\\site-packages (from spacy<3.7.0,>=3.6.0->pt-core-news-lg==3.6.0) (2.26.0)\n",
            "Requirement already satisfied: wasabi<1.2.0,>=0.9.1 in c:\\users\\leo o  computador\\appdata\\local\\packages\\pythonsoftwarefoundation.python.3.9_qbz5n2kfra8p0\\localcache\\local-packages\\python39\\site-packages (from spacy<3.7.0,>=3.6.0->pt-core-news-lg==3.6.0) (1.1.2)\n",
            "Requirement already satisfied: spacy-loggers<2.0.0,>=1.0.0 in c:\\users\\leo o  computador\\appdata\\local\\packages\\pythonsoftwarefoundation.python.3.9_qbz5n2kfra8p0\\localcache\\local-packages\\python39\\site-packages (from spacy<3.7.0,>=3.6.0->pt-core-news-lg==3.6.0) (1.0.5)\n",
            "Requirement already satisfied: jinja2 in c:\\users\\leo o  computador\\appdata\\local\\packages\\pythonsoftwarefoundation.python.3.9_qbz5n2kfra8p0\\localcache\\local-packages\\python39\\site-packages (from spacy<3.7.0,>=3.6.0->pt-core-news-lg==3.6.0) (3.1.2)\n",
            "Requirement already satisfied: pathy>=0.10.0 in c:\\users\\leo o  computador\\appdata\\local\\packages\\pythonsoftwarefoundation.python.3.9_qbz5n2kfra8p0\\localcache\\local-packages\\python39\\site-packages (from spacy<3.7.0,>=3.6.0->pt-core-news-lg==3.6.0) (0.10.2)\n",
            "Requirement already satisfied: pydantic!=1.8,!=1.8.1,<3.0.0,>=1.7.4 in c:\\users\\leo o  computador\\appdata\\local\\packages\\pythonsoftwarefoundation.python.3.9_qbz5n2kfra8p0\\localcache\\local-packages\\python39\\site-packages (from spacy<3.7.0,>=3.6.0->pt-core-news-lg==3.6.0) (2.4.2)\n",
            "Requirement already satisfied: typer<0.10.0,>=0.3.0 in c:\\users\\leo o  computador\\appdata\\local\\packages\\pythonsoftwarefoundation.python.3.9_qbz5n2kfra8p0\\localcache\\local-packages\\python39\\site-packages (from spacy<3.7.0,>=3.6.0->pt-core-news-lg==3.6.0) (0.9.0)\n",
            "Requirement already satisfied: srsly<3.0.0,>=2.4.3 in c:\\users\\leo o  computador\\appdata\\local\\packages\\pythonsoftwarefoundation.python.3.9_qbz5n2kfra8p0\\localcache\\local-packages\\python39\\site-packages (from spacy<3.7.0,>=3.6.0->pt-core-news-lg==3.6.0) (2.4.8)\n",
            "Requirement already satisfied: cymem<2.1.0,>=2.0.2 in c:\\users\\leo o  computador\\appdata\\local\\packages\\pythonsoftwarefoundation.python.3.9_qbz5n2kfra8p0\\localcache\\local-packages\\python39\\site-packages (from spacy<3.7.0,>=3.6.0->pt-core-news-lg==3.6.0) (2.0.8)\n",
            "Requirement already satisfied: packaging>=20.0 in c:\\users\\leo o  computador\\appdata\\local\\packages\\pythonsoftwarefoundation.python.3.9_qbz5n2kfra8p0\\localcache\\local-packages\\python39\\site-packages (from spacy<3.7.0,>=3.6.0->pt-core-news-lg==3.6.0) (23.1)\n",
            "Requirement already satisfied: setuptools in c:\\program files\\windowsapps\\pythonsoftwarefoundation.python.3.9_3.9.3568.0_x64__qbz5n2kfra8p0\\lib\\site-packages (from spacy<3.7.0,>=3.6.0->pt-core-news-lg==3.6.0) (58.1.0)\n",
            "Requirement already satisfied: murmurhash<1.1.0,>=0.28.0 in c:\\users\\leo o  computador\\appdata\\local\\packages\\pythonsoftwarefoundation.python.3.9_qbz5n2kfra8p0\\localcache\\local-packages\\python39\\site-packages (from spacy<3.7.0,>=3.6.0->pt-core-news-lg==3.6.0) (1.0.10)\n",
            "Requirement already satisfied: numpy>=1.15.0 in c:\\users\\leo o  computador\\appdata\\local\\packages\\pythonsoftwarefoundation.python.3.9_qbz5n2kfra8p0\\localcache\\local-packages\\python39\\site-packages (from spacy<3.7.0,>=3.6.0->pt-core-news-lg==3.6.0) (1.21.2)\n",
            "Requirement already satisfied: tqdm<5.0.0,>=4.38.0 in c:\\users\\leo o  computador\\appdata\\local\\packages\\pythonsoftwarefoundation.python.3.9_qbz5n2kfra8p0\\localcache\\local-packages\\python39\\site-packages (from spacy<3.7.0,>=3.6.0->pt-core-news-lg==3.6.0) (4.65.0)\n",
            "Requirement already satisfied: thinc<8.2.0,>=8.1.8 in c:\\users\\leo o  computador\\appdata\\local\\packages\\pythonsoftwarefoundation.python.3.9_qbz5n2kfra8p0\\localcache\\local-packages\\python39\\site-packages (from spacy<3.7.0,>=3.6.0->pt-core-news-lg==3.6.0) (8.1.12)\n",
            "Requirement already satisfied: catalogue<2.1.0,>=2.0.6 in c:\\users\\leo o  computador\\appdata\\local\\packages\\pythonsoftwarefoundation.python.3.9_qbz5n2kfra8p0\\localcache\\local-packages\\python39\\site-packages (from spacy<3.7.0,>=3.6.0->pt-core-news-lg==3.6.0) (2.0.10)\n",
            "Requirement already satisfied: langcodes<4.0.0,>=3.2.0 in c:\\users\\leo o  computador\\appdata\\local\\packages\\pythonsoftwarefoundation.python.3.9_qbz5n2kfra8p0\\localcache\\local-packages\\python39\\site-packages (from spacy<3.7.0,>=3.6.0->pt-core-news-lg==3.6.0) (3.3.0)\n",
            "Requirement already satisfied: smart-open<7.0.0,>=5.2.1 in c:\\users\\leo o  computador\\appdata\\local\\packages\\pythonsoftwarefoundation.python.3.9_qbz5n2kfra8p0\\localcache\\local-packages\\python39\\site-packages (from spacy<3.7.0,>=3.6.0->pt-core-news-lg==3.6.0) (6.4.0)\n",
            "Requirement already satisfied: typing-extensions>=4.6.1 in c:\\users\\leo o  computador\\appdata\\local\\packages\\pythonsoftwarefoundation.python.3.9_qbz5n2kfra8p0\\localcache\\local-packages\\python39\\site-packages (from pydantic!=1.8,!=1.8.1,<3.0.0,>=1.7.4->spacy<3.7.0,>=3.6.0->pt-core-news-lg==3.6.0) (4.6.3)\n",
            "Requirement already satisfied: annotated-types>=0.4.0 in c:\\users\\leo o  computador\\appdata\\local\\packages\\pythonsoftwarefoundation.python.3.9_qbz5n2kfra8p0\\localcache\\local-packages\\python39\\site-packages (from pydantic!=1.8,!=1.8.1,<3.0.0,>=1.7.4->spacy<3.7.0,>=3.6.0->pt-core-news-lg==3.6.0) (0.5.0)\n",
            "Requirement already satisfied: pydantic-core==2.10.1 in c:\\users\\leo o  computador\\appdata\\local\\packages\\pythonsoftwarefoundation.python.3.9_qbz5n2kfra8p0\\localcache\\local-packages\\python39\\site-packages (from pydantic!=1.8,!=1.8.1,<3.0.0,>=1.7.4->spacy<3.7.0,>=3.6.0->pt-core-news-lg==3.6.0) (2.10.1)\n",
            "Requirement already satisfied: certifi>=2017.4.17 in c:\\users\\leo o  computador\\appdata\\local\\packages\\pythonsoftwarefoundation.python.3.9_qbz5n2kfra8p0\\localcache\\local-packages\\python39\\site-packages (from requests<3.0.0,>=2.13.0->spacy<3.7.0,>=3.6.0->pt-core-news-lg==3.6.0) (2021.5.30)\n",
            "Requirement already satisfied: urllib3<1.27,>=1.21.1 in c:\\users\\leo o  computador\\appdata\\local\\packages\\pythonsoftwarefoundation.python.3.9_qbz5n2kfra8p0\\localcache\\local-packages\\python39\\site-packages (from requests<3.0.0,>=2.13.0->spacy<3.7.0,>=3.6.0->pt-core-news-lg==3.6.0) (1.26.16)\n",
            "Requirement already satisfied: idna<4,>=2.5 in c:\\users\\leo o  computador\\appdata\\local\\packages\\pythonsoftwarefoundation.python.3.9_qbz5n2kfra8p0\\localcache\\local-packages\\python39\\site-packages (from requests<3.0.0,>=2.13.0->spacy<3.7.0,>=3.6.0->pt-core-news-lg==3.6.0) (3.2)\n",
            "Requirement already satisfied: charset-normalizer~=2.0.0 in c:\\users\\leo o  computador\\appdata\\local\\packages\\pythonsoftwarefoundation.python.3.9_qbz5n2kfra8p0\\localcache\\local-packages\\python39\\site-packages (from requests<3.0.0,>=2.13.0->spacy<3.7.0,>=3.6.0->pt-core-news-lg==3.6.0) (2.0.6)\n",
            "Requirement already satisfied: confection<1.0.0,>=0.0.1 in c:\\users\\leo o  computador\\appdata\\local\\packages\\pythonsoftwarefoundation.python.3.9_qbz5n2kfra8p0\\localcache\\local-packages\\python39\\site-packages (from thinc<8.2.0,>=8.1.8->spacy<3.7.0,>=3.6.0->pt-core-news-lg==3.6.0) (0.1.3)\n",
            "Requirement already satisfied: blis<0.8.0,>=0.7.8 in c:\\users\\leo o  computador\\appdata\\local\\packages\\pythonsoftwarefoundation.python.3.9_qbz5n2kfra8p0\\localcache\\local-packages\\python39\\site-packages (from thinc<8.2.0,>=8.1.8->spacy<3.7.0,>=3.6.0->pt-core-news-lg==3.6.0) (0.7.11)\n",
            "Requirement already satisfied: colorama in c:\\users\\leo o  computador\\appdata\\local\\packages\\pythonsoftwarefoundation.python.3.9_qbz5n2kfra8p0\\localcache\\local-packages\\python39\\site-packages (from tqdm<5.0.0,>=4.38.0->spacy<3.7.0,>=3.6.0->pt-core-news-lg==3.6.0) (0.4.6)\n",
            "Requirement already satisfied: click<9.0.0,>=7.1.1 in c:\\users\\leo o  computador\\appdata\\local\\packages\\pythonsoftwarefoundation.python.3.9_qbz5n2kfra8p0\\localcache\\local-packages\\python39\\site-packages (from typer<0.10.0,>=0.3.0->spacy<3.7.0,>=3.6.0->pt-core-news-lg==3.6.0) (8.1.3)\n",
            "Requirement already satisfied: MarkupSafe>=2.0 in c:\\users\\leo o  computador\\appdata\\local\\packages\\pythonsoftwarefoundation.python.3.9_qbz5n2kfra8p0\\localcache\\local-packages\\python39\\site-packages (from jinja2->spacy<3.7.0,>=3.6.0->pt-core-news-lg==3.6.0) (2.1.3)\n",
            "\u001b[38;5;2m✔ Download and installation successful\u001b[0m\n",
            "You can now load the package via spacy.load('pt_core_news_lg')\n"
          ]
        },
        {
          "name": "stderr",
          "output_type": "stream",
          "text": [
            "WARNING: You are using pip version 22.0.4; however, version 23.2.1 is available.\n",
            "You should consider upgrading via the 'C:\\Users\\Leo o  computador\\AppData\\Local\\Microsoft\\WindowsApps\\PythonSoftwareFoundation.Python.3.9_qbz5n2kfra8p0\\python.exe -m pip install --upgrade pip' command.\n"
          ]
        }
      ],
      "source": [
        "!python -m spacy download pt_core_news_lg"
      ]
    },
    {
      "cell_type": "code",
      "execution_count": 5,
      "metadata": {
        "id": "jbPtHDGEPZHG"
      },
      "outputs": [],
      "source": [
        "nlp = spacy.load('pt_core_news_lg')\n",
        "textos = [unidecode(x) for x in list(df_told['text'])]\n",
        "textos_tokenized = []\n",
        "for separado in textos:\n",
        "  textos_middle = []\n",
        "  doc = nlp(separado)\n",
        "  for token in doc:\n",
        "    if not token.is_stop:\n",
        "      textos_middle.append(token.text)\n",
        "  textos_tokenized.append(textos_middle)\n",
        "\n",
        "stemmer = SnowballStemmer(language='portuguese')\n",
        "textos_tokenized_clean_stem = []\n",
        "for i in range(len(textos_tokenized)):\n",
        "  textos_middle =[]\n",
        "  for j in textos_tokenized[i]:\n",
        "    textos_middle.append(stemmer.stem(j))\n",
        "  textos_tokenized_clean_stem.append(textos_middle)\n",
        "\n",
        "textos_tokenized_clean_lemma =[]\n",
        "for i in range(len(textos_tokenized)):\n",
        "  separado = ' '.join(textos_tokenized[i])\n",
        "  doc = nlp(separado)\n",
        "  textos_middle =[]\n",
        "  for token in doc:\n",
        "    textos_middle.append(token.lemma_)\n",
        "  textos_tokenized_clean_lemma.append(textos_middle)\n",
        "textos_lemma = [' '.join(x) for x in textos_tokenized_clean_lemma]\n",
        "textos_stemma = [' '.join(x) for x in textos_tokenized_clean_stem]"
      ]
    },
    {
      "cell_type": "code",
      "execution_count": 6,
      "metadata": {
        "colab": {
          "base_uri": "https://localhost:8080/"
        },
        "id": "ulhHJSvTaGse",
        "outputId": "106b4e71-7f8a-455f-80ef-22a27050b01e"
      },
      "outputs": [],
      "source": [
        "from sklearn.feature_extraction.text import TfidfVectorizer\n",
        "def tokenize_spacy(sentence):\n",
        "    doc = nlp(sentence)\n",
        "    return [w.text for w in doc]\n",
        "vectorizer = TfidfVectorizer(tokenizer=tokenize_spacy, ngram_range=(1, 4),lowercase = True)\n",
        "matrix = vectorizer.fit_transform(textos_lemma)"
      ]
    },
    {
      "cell_type": "code",
      "execution_count": 7,
      "metadata": {
        "id": "S7zsdKURblF7"
      },
      "outputs": [],
      "source": [
        "from sklearn.model_selection import train_test_split\n",
        "X_train, X_test, y_train, y_test = train_test_split(matrix, y, test_size=0.2, random_state=42)"
      ]
    },
    {
      "cell_type": "code",
      "execution_count": 9,
      "metadata": {
        "colab": {
          "base_uri": "https://localhost:8080/"
        },
        "id": "Kxi2MOS4XIxM",
        "outputId": "34e9d050-87fb-4185-ce5f-97082711625e"
      },
      "outputs": [
        {
          "name": "stdout",
          "output_type": "stream",
          "text": [
            "iteration:0, early stopping = 0\n"
          ]
        }
      ],
      "source": [
        "n_iter = 5\n",
        "clf = RandomForestClassifier(max_depth=100, random_state=42,n_estimators=500)\n",
        "# Number of trees in random forest\n",
        "n_estimators = [int(x) for x in np.linspace(start = 100, stop = 5000, num = 1000)]\n",
        "# Number of features to consider at every split\n",
        "max_features = ['log2', 'sqrt',None]\n",
        "# Maximum number of levels in tree\n",
        "max_depth = [int(x) for x in np.linspace(10, 500, num = 1000)]\n",
        "max_depth.append(None)\n",
        "# Minimum number of samples required to split a node\n",
        "min_samples_split = [int(x) for x in np.linspace(1, 100, num = 1000)]\n",
        "# Minimum number of samples required at each leaf node\n",
        "min_samples_leaf = [int(x) for x in np.linspace(10, 100, num = 1000)]\n",
        "# Method of selecting samples for training each tree\n",
        "bootstrap = [True, False]\n",
        "# Create the random grid\n",
        "random_dict_rf = {'n_estimators': [],\n",
        "               'max_features': [],\n",
        "               'max_depth': [],\n",
        "               'min_samples_split': [],\n",
        "               'min_samples_leaf': [],\n",
        "               'bootstrap': [],\n",
        "                'f1':[],\n",
        "                 'acc':[]}\n",
        "early_stop_flag = 0\n",
        "for i in range(n_iter):\n",
        "    print(f'iteration:{i}, early stopping = {early_stop_flag}')\n",
        "    if i>=2:\n",
        "        if random_dict_rf['f1'][i-1]>random_dict_rf['f1'][i]:\n",
        "            early_stop_flag+=1\n",
        "    if early_stop_flag >=5:\n",
        "        break\n",
        "    n_estimators_ = np.random.choice(n_estimators)\n",
        "    random_dict_rf['n_estimators'].append(n_estimators_)\n",
        "    max_features_ = np.random.choice(max_features)\n",
        "    random_dict_rf['max_features'].append(max_features_)\n",
        "    max_depth_ = np.random.choice(max_depth)\n",
        "    random_dict_rf['max_depth'].append(max_depth_)\n",
        "    min_samples_split_ = np.random.choice(min_samples_split)\n",
        "    random_dict_rf['min_samples_split'].append(min_samples_split_)\n",
        "    min_samples_leaf_ = np.random.choice(min_samples_leaf)\n",
        "    random_dict_rf['min_samples_leaf'].append(min_samples_leaf_)\n",
        "    bootstrap_ = np.random.choice(bootstrap)\n",
        "    random_dict_rf['bootstrap'].append(bootstrap_)\n",
        "    random_grid = {'n_estimators': n_estimators_,\n",
        "               'max_features': max_features_,\n",
        "               'max_depth': max_depth_,\n",
        "               'min_samples_split': min_samples_split_,\n",
        "               'min_samples_leaf': min_samples_leaf_,\n",
        "               'bootstrap': bootstrap_}\n",
        "    clf = RandomForestClassifier(**random_grid)\n",
        "    clf.fit(X_train, y_train)\n",
        "    print(\"RF model acquired\")\n",
        "    y_pred = clf.predict(X_test)\n",
        "    print('Accuracy: %.3f' % accuracy_score(y_test, y_pred))\n",
        "    random_dict_rf['acc'].append(accuracy_score(y_test, y_pred))\n",
        "    print('F1 Score: %.3f' % f1_score(y_test, y_pred))\n",
        "    random_dict_rf['f1'].append(f1_score(y_test, y_pred))\n",
        "    \n",
        "best_iter = random_dict_rf['f1'].index(max(random_dict_rf['f1']))\n",
        "n_estimators = random_dict_rf['n_estimators'][best_iter]\n",
        "max_features = random_dict_rf['max_features'][best_iter]\n",
        "max_depth = random_dict_rf['max_depth'][best_iter]\n",
        "min_samples_split = random_dict_rf['min_samples_split'][best_iter]\n",
        "min_samples_leaf = random_dict_rf['min_samples_leaf'][best_iter]\n",
        "bootstrap = random_dict_rf['bootstrap'][best_iter]\n",
        "random_grid = {'n_estimators': n_estimators_,\n",
        "             'max_features': max_features_,\n",
        "             'max_depth': max_depth_,\n",
        "             'min_samples_split': min_samples_split_,\n",
        "             'min_samples_leaf': min_samples_leaf_,\n",
        "             'bootstrap': bootstrap_}\n",
        "clf = RandomForestClassifier(**random_grid)\n",
        "clf.fit(X_train, y_train)\n",
        "\n",
        "filename = \"rf_model_tfidf_.pickle\"\n",
        "\n",
        "# save model\n",
        "# clf = pickle.load(open('rf_model_nors.pickle', 'rb'))\n",
        "joblib.dump(clf, 'rf_model_rs_tfidf_.pkl')\n",
        "pickle.dump(clf, open(\"rf_model_rs_tfidf_.sav\", \"wb\"))\n",
        "pickle.dump(clf, open(\"rf_model_rs_tfidf_.pickle\", \"wb\"))\n",
        "y_pred = clf.predict(X_test)\n",
        "print('Precision: %.3f' % precision_score(y_test, y_pred))\n",
        "print('Recall: %.3f' % recall_score(y_test, y_pred))\n",
        "print('Accuracy: %.3f' % accuracy_score(y_test, y_pred))\n",
        "print('F1 Score: %.3f' % f1_score(y_test, y_pred))\n",
        "\n",
        "conf_matrix = confusion_matrix(y_true=y_test, y_pred=y_pred)\n",
        "plt.figure(figsize = (10,7))\n",
        "sns.heatmap(conf_matrix, annot=True)\n",
        "\n",
        "ax =sns.heatmap(conf_matrix, annot=True)\n",
        "\n",
        "# save the plot as PDF file\n",
        "plt.savefig(\"confusionmatrix_told_rf_rs_tfidf_.png\", format='png')"
      ]
    },
    {
      "cell_type": "code",
      "execution_count": null,
      "metadata": {
        "id": "WUtsEt_CpfC3"
      },
      "outputs": [],
      "source": [
        "classifier = xgboost.XGBClassifier()\n",
        "random_grid = {\n",
        " \"learning_rate\" : [x for x in np.linspace(start = 1e-6, stop = 1e-2, num = 1000)],\n",
        " \"max_depth\" : [int(x) for x in np.linspace(10, 5000, num = 1000)],\n",
        " \"min_child_weight\" : [int(x) for x in np.linspace(1, 500, num = 500)],\n",
        " \"gamma\": [x for x in np.linspace(start = 2e-3, stop = 7e-1, num = 100)],\n",
        " \"colsample_bytree\" : [x for x in np.linspace(start = 2e-3, stop = 7e-1, num = 100)]\n",
        "}\n",
        "def xgboost_rs(random_grid,classifier):\n",
        "    xg_random = RandomizedSearchCV(estimator = classifier,scoring = ['accuracy','f1'],param_distributions = random_grid, n_iter = n_iter, cv = 5, verbose=10, random_state=42, n_jobs = -1,refit='f1')\n",
        "    # Fit the random search model\n",
        "    # xg_random.set_params(**fit_params)\n",
        "    xg_random.fit(X_train, y_train)#,**fit_params)\n",
        "    #clf.fit(X_train, y_train)\n",
        "    print(\"xg model acquired\")\n",
        "    xg_clf = xg_random.best_estimator_\n",
        "    return xg_clf\n",
        "xg_clf = xgboost_rs(random_grid,classifier)\n",
        "\n",
        "# save model\n",
        "joblib.dump(xg_clf, 'xg_model_tfidf_joblib.pkl')\n",
        "pickle.dump(xg_clf, open(\"xg_model_tfidf_.sav\", \"wb\"))\n",
        "pickle.dump(xg_clf, open(\"xg_model_tfidf_.pickle\", \"wb\"))\n",
        "y_pred = xg_clf.predict(X_test)\n",
        "print('Precision: %.3f' % precision_score(y_test, y_pred))\n",
        "print('Recall: %.3f' % recall_score(y_test, y_pred))\n",
        "print('Accuracy: %.3f' % accuracy_score(y_test, y_pred))\n",
        "print('F1 Score: %.3f' % f1_score(y_test, y_pred))\n",
        "\n",
        "conf_matrix = confusion_matrix(y_true=y_test, y_pred=y_pred)\n",
        "plt.figure(figsize = (10,7))\n",
        "sns.heatmap(conf_matrix, annot=True)\n",
        "\n",
        "ax =sns.heatmap(conf_matrix, annot=True)\n",
        "\n",
        "# save the plot as PDF file\n",
        "plt.savefig(\"confusionmatrix_told_xg_rs_tfidf_.png\", format='png')"
      ]
    },
    {
      "cell_type": "code",
      "execution_count": null,
      "metadata": {
        "id": "w7KpXQ0Zp-Kd"
      },
      "outputs": [],
      "source": []
    }
  ],
  "metadata": {
    "colab": {
      "provenance": []
    },
    "kernelspec": {
      "display_name": "Python 3",
      "name": "python3"
    },
    "language_info": {
      "codemirror_mode": {
        "name": "ipython",
        "version": 3
      },
      "file_extension": ".py",
      "mimetype": "text/x-python",
      "name": "python",
      "nbconvert_exporter": "python",
      "pygments_lexer": "ipython3",
      "version": "3.9.13"
    }
  },
  "nbformat": 4,
  "nbformat_minor": 0
}
